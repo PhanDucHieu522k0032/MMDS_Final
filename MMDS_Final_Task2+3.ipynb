{
  "cells": [
    {
      "cell_type": "code",
      "execution_count": null,
      "metadata": {
        "id": "Gd2o1Xw6H9eK"
      },
      "outputs": [],
      "source": [
        "# Environment setup function\n",
        "def setup_spark_environment():\n",
        "    # Install dependencies\n",
        "    !apt-get install openjdk-8-jdk-headless -qq > /dev/null\n",
        "    !wget -q https://archive.apache.org/dist/spark/spark-3.5.4/spark-3.5.4-bin-hadoop3.tgz\n",
        "    !tar xf spark-3.5.4-bin-hadoop3.tgz\n",
        "    !pip install -q findspark\n",
        "\n",
        "    # Set environment variables\n",
        "    import os\n",
        "    os.environ[\"JAVA_HOME\"] = \"/usr/lib/jvm/java-8-openjdk-amd64\"\n",
        "    os.environ[\"SPARK_HOME\"] = \"/content/spark-3.5.4-bin-hadoop3\"\n",
        "\n",
        "    # Initialize findspark\n",
        "    import findspark\n",
        "    findspark.init()\n",
        "\n",
        "    # Create Spark session\n",
        "    from pyspark.sql import SparkSession\n",
        "    spark = SparkSession.builder.appName(\"GoldPricePrediction\").getOrCreate()\n",
        "\n",
        "    return spark\n",
        "\n",
        "# Call setup function\n",
        "spark = setup_spark_environment()"
      ]
    },
    {
      "cell_type": "markdown",
      "metadata": {
        "id": "JkY4zmEHsk0h"
      },
      "source": [
        "#Task 2"
      ]
    },
    {
      "cell_type": "markdown",
      "source": [
        "##Library"
      ],
      "metadata": {
        "id": "mVibDFkD1opV"
      }
    },
    {
      "cell_type": "code",
      "source": [
        "from pyspark.sql import SparkSession\n",
        "from pyspark.sql.functions import col, lag\n",
        "from pyspark.sql.window import Window\n",
        "from pyspark.ml.feature import VectorAssembler\n",
        "from pyspark.ml.regression import LinearRegression\n",
        "from pyspark.ml.evaluation import RegressionEvaluator\n",
        "import matplotlib.pyplot as plt\n",
        "import numpy as np"
      ],
      "metadata": {
        "id": "Mk_wulIE1q2N"
      },
      "execution_count": null,
      "outputs": []
    },
    {
      "cell_type": "markdown",
      "source": [
        "##Spark session"
      ],
      "metadata": {
        "id": "lXdzwX0u1w2c"
      }
    },
    {
      "cell_type": "code",
      "source": [
        "# Create a Spark session\n",
        "spark = SparkSession.builder.appName(\"Gold Price Prediction\").getOrCreate()"
      ],
      "metadata": {
        "id": "Y0VsNqe01vuP"
      },
      "execution_count": null,
      "outputs": []
    },
    {
      "cell_type": "markdown",
      "source": [
        "##Preprocess data"
      ],
      "metadata": {
        "id": "tSQqNIAq1zqG"
      }
    },
    {
      "cell_type": "code",
      "source": [
        "def load_and_preprocess_data(file_path):\n",
        "    #Read the dataset\n",
        "    df = spark.read.csv(file_path, header=True, inferSchema=True)\n",
        "    df = df.withColumn(\"Date\", col(\"Date\").cast(\"date\")).orderBy(\"Date\")\n",
        "\n",
        "    #Create lag features\n",
        "    windowSpec = Window.orderBy(\"Date\")\n",
        "    for i in range(1, 11):\n",
        "        df = df.withColumn(f\"lag_{i}\", lag(\"Sell Price\", i).over(windowSpec))\n",
        "\n",
        "    #Drop rows with null values\n",
        "    df = df.na.drop()\n",
        "    return df"
      ],
      "metadata": {
        "id": "dwnWja7c13Ob"
      },
      "execution_count": null,
      "outputs": []
    },
    {
      "cell_type": "markdown",
      "source": [
        "##Create feature vectors and split data"
      ],
      "metadata": {
        "id": "M21zVEIS15M2"
      }
    },
    {
      "cell_type": "code",
      "source": [
        "def prepare_ml_data(df):\n",
        "    #Create feature vector using VectorAssembler\n",
        "    feature_cols = [f\"lag_{i}\" for i in range(1, 11)]\n",
        "    assembler = VectorAssembler(inputCols=feature_cols, outputCol=\"features\")\n",
        "\n",
        "    #Select columns\n",
        "    data = df.select(\"Date\", *feature_cols, col(\"Sell Price\").alias(\"label\"))\n",
        "    vector_data = assembler.transform(data).select(\"Date\", \"features\", \"label\")\n",
        "\n",
        "    #Split the data\n",
        "    train_data, test_data = vector_data.randomSplit([0.7, 0.3], seed=42)\n",
        "    return train_data, test_data"
      ],
      "metadata": {
        "id": "H1e6of0W18T9"
      },
      "execution_count": null,
      "outputs": []
    },
    {
      "cell_type": "markdown",
      "source": [
        "##Train and evaluate model"
      ],
      "metadata": {
        "id": "4la4sk5T1_7d"
      }
    },
    {
      "cell_type": "code",
      "source": [
        "def train_and_evaluate_model(train_data, test_data):\n",
        "    lr = LinearRegression(\n",
        "        featuresCol=\"features\",\n",
        "        labelCol=\"label\",\n",
        "        maxIter=10,\n",
        "        regParam=0.1,\n",
        "        elasticNetParam=0.5,\n",
        "        standardization=True,\n",
        "        tol=1e-12,\n",
        "        solver=\"l-bfgs\"\n",
        "    )\n",
        "\n",
        "    model = lr.fit(train_data)\n",
        "    summary = model.summary\n",
        "\n",
        "    #Manually track and log loss if needed\n",
        "    if len(summary.objectiveHistory) <= 1:\n",
        "        print(\"Warning: Model converged in just one iteration, which is unusual.\")\n",
        "        print(\"Consider adjusting the regularization or solver parameters.\")\n",
        "\n",
        "    #Evaluate the model\n",
        "    evaluator = RegressionEvaluator(predictionCol=\"prediction\", labelCol=\"label\")\n",
        "\n",
        "    #Calculate metrics for both training and test sets\n",
        "    train_rmse = evaluator.setMetricName(\"rmse\").evaluate(model.transform(train_data))\n",
        "    test_rmse = evaluator.setMetricName(\"rmse\").evaluate(model.transform(test_data))\n",
        "    train_mae = evaluator.setMetricName(\"mae\").evaluate(model.transform(train_data))\n",
        "    test_mae = evaluator.setMetricName(\"mae\").evaluate(model.transform(test_data))\n",
        "    train_r2 = evaluator.setMetricName(\"r2\").evaluate(model.transform(train_data))\n",
        "    test_r2 = evaluator.setMetricName(\"r2\").evaluate(model.transform(test_data))\n",
        "\n",
        "    metrics = {\n",
        "        'train_rmse': train_rmse,\n",
        "        'test_rmse': test_rmse,\n",
        "        'train_mae': train_mae,\n",
        "        'test_mae': test_mae,\n",
        "        'train_r2': train_r2,\n",
        "        'test_r2': test_r2\n",
        "    }\n",
        "\n",
        "    return model, summary, metrics"
      ],
      "metadata": {
        "id": "8mw20mHD2B1i"
      },
      "execution_count": null,
      "outputs": []
    },
    {
      "cell_type": "markdown",
      "source": [
        "##Visualize"
      ],
      "metadata": {
        "id": "qLZ7aSqx2L-D"
      }
    },
    {
      "cell_type": "code",
      "source": [
        "def create_visualizations(summary, metrics):\n",
        "    loss_history = summary.objectiveHistory\n",
        "\n",
        "    #Plotting loss graph\n",
        "    plt.figure(figsize=(10, 6))\n",
        "    if len(loss_history) > 1:\n",
        "        plt.plot(range(1, len(loss_history) + 1), loss_history, 'bo-', linewidth=2)\n",
        "        plt.title(\"Training Loss Over Iterations\")\n",
        "        plt.xlabel(\"Iteration\")\n",
        "        plt.ylabel(\"Loss\")\n",
        "        plt.grid(True)\n",
        "    else:\n",
        "        plt.scatter([1], loss_history, color='blue', s=100)\n",
        "        plt.xlim(0, 2)\n",
        "        plt.title(\"Training Loss (Model Converged in One Iteration)\")\n",
        "        plt.xlabel(\"Iteration\")\n",
        "        plt.ylabel(\"Loss\")\n",
        "        plt.grid(True)\n",
        "\n",
        "        plt.annotate(\"Model converged immediately.\\nConsider adjusting regularization parameters.\",\n",
        "                    xy=(1, loss_history[0]),\n",
        "                    xytext=(1.2, loss_history[0]),\n",
        "                    arrowprops=dict(facecolor='black', shrink=0.05))\n",
        "\n",
        "    plt.show()\n",
        "\n",
        "    #Bar chart for metrics comparison\n",
        "    metric_names = ['RMSE', 'MAE', 'R²']\n",
        "    train_values = [metrics['train_rmse'], metrics['train_mae'], metrics['train_r2']]\n",
        "    test_values = [metrics['test_rmse'], metrics['test_mae'], metrics['test_r2']]\n",
        "\n",
        "    x = np.arange(len(metric_names))\n",
        "    width = 0.35\n",
        "\n",
        "    plt.figure(figsize=(10, 6))\n",
        "    plt.bar(x - width/2, train_values, width, label='Training')\n",
        "    plt.bar(x + width/2, test_values, width, label='Test')\n",
        "    plt.ylabel('Value')\n",
        "    plt.title('Model Performance Metrics')\n",
        "    plt.xticks(x, metric_names)\n",
        "    plt.legend()\n",
        "    plt.grid(axis='y')\n",
        "    plt.show()"
      ],
      "metadata": {
        "id": "hYC_i2dY2Neh"
      },
      "execution_count": null,
      "outputs": []
    },
    {
      "cell_type": "markdown",
      "source": [
        "##Main"
      ],
      "metadata": {
        "id": "Pi12JYgY2QS7"
      }
    },
    {
      "cell_type": "code",
      "execution_count": null,
      "metadata": {
        "id": "ZhHOTaF_saeQ",
        "colab": {
          "base_uri": "https://localhost:8080/",
          "height": 1000
        },
        "outputId": "18e6efea-9f17-45a6-ed1c-e76937a939ac"
      },
      "outputs": [
        {
          "output_type": "stream",
          "name": "stdout",
          "text": [
            "Dataset sample:\n",
            "+----------+---------+----------+-----+-----+-----+-----+-----+-----+-----+-----+-----+------+\n",
            "|      Date|Buy Price|Sell Price|lag_1|lag_2|lag_3|lag_4|lag_5|lag_6|lag_7|lag_8|lag_9|lag_10|\n",
            "+----------+---------+----------+-----+-----+-----+-----+-----+-----+-----+-----+-----+------+\n",
            "|2009-08-11|    21.13|     21.19|21.19|21.19|21.19|21.19|21.19|21.19|21.19|21.19|21.19| 21.19|\n",
            "|2009-08-12|    21.13|     21.19|21.19|21.19|21.19|21.19|21.19|21.19|21.19|21.19|21.19| 21.19|\n",
            "|2009-08-13|    21.13|     21.19|21.19|21.19|21.19|21.19|21.19|21.19|21.19|21.19|21.19| 21.19|\n",
            "|2009-08-14|    21.13|     21.19|21.19|21.19|21.19|21.19|21.19|21.19|21.19|21.19|21.19| 21.19|\n",
            "|2009-08-15|    21.13|     21.19|21.19|21.19|21.19|21.19|21.19|21.19|21.19|21.19|21.19| 21.19|\n",
            "+----------+---------+----------+-----+-----+-----+-----+-----+-----+-----+-----+-----+------+\n",
            "only showing top 5 rows\n",
            "\n",
            "Training set size: 3964\n",
            "Test set size: 1591\n",
            "Training RMSE: 0.4431\n",
            "Test RMSE: 0.3760\n",
            "Training R²: 0.9992\n",
            "Test R²: 0.9994\n"
          ]
        },
        {
          "output_type": "display_data",
          "data": {
            "text/plain": [
              "<Figure size 1000x600 with 1 Axes>"
            ],
            "image/png": "[encoded data removed]"
          },
          "metadata": {}
        },
        {
          "output_type": "display_data",
          "data": {
            "text/plain": [
              "<Figure size 1000x600 with 1 Axes>"
            ],
            "image/png": "[encoded data removed]"
          },
          "metadata": {}
        }
      ],
      "source": [
        "def main():\n",
        "    file_path = \"gold_prices.csv\"\n",
        "    df = load_and_preprocess_data(file_path)\n",
        "    print(\"Dataset sample:\")\n",
        "    df.show(5)\n",
        "\n",
        "    #Prepare data\n",
        "    train_data, test_data = prepare_ml_data(df)\n",
        "    print(f\"Training set size: {train_data.count()}\")\n",
        "    print(f\"Test set size: {test_data.count()}\")\n",
        "\n",
        "    #Train and evaluate the model\n",
        "    model, summary, metrics = train_and_evaluate_model(train_data, test_data)\n",
        "\n",
        "    #Print evaluation metrics\n",
        "    print(f\"Training RMSE: {metrics['train_rmse']:.4f}\")\n",
        "    print(f\"Test RMSE: {metrics['test_rmse']:.4f}\")\n",
        "    print(f\"Training R²: {metrics['train_r2']:.4f}\")\n",
        "    print(f\"Test R²: {metrics['test_r2']:.4f}\")\n",
        "\n",
        "    #Create visualizations\n",
        "    create_visualizations(summary, metrics)\n",
        "\n",
        "if __name__ == \"__main__\":\n",
        "    main()"
      ]
    },
    {
      "cell_type": "markdown",
      "metadata": {
        "id": "EuZQHnZiFWwz"
      },
      "source": [
        "#Task 3"
      ]
    },
    {
      "cell_type": "markdown",
      "source": [
        "##Library"
      ],
      "metadata": {
        "id": "7lt-StJN3YXu"
      }
    },
    {
      "cell_type": "code",
      "source": [
        "from pyspark.sql import SparkSession\n",
        "from pyspark.sql.functions import col, lag, udf\n",
        "from pyspark.sql.window import Window\n",
        "from pyspark.sql.types import ArrayType, DoubleType\n",
        "from pyspark.ml.feature import VectorAssembler\n",
        "from pyspark.ml.regression import LinearRegression\n",
        "from pyspark.ml.evaluation import RegressionEvaluator\n",
        "from pyspark.ml.linalg import Vectors as MLVectors, VectorUDT\n",
        "from pyspark.mllib.linalg.distributed import RowMatrix\n",
        "from pyspark.mllib.linalg import Vectors as MLLibVectors\n",
        "import matplotlib.pyplot as plt\n",
        "import numpy as np\n",
        "import random\n",
        "import time"
      ],
      "metadata": {
        "id": "8sx-SFHr3drC"
      },
      "execution_count": null,
      "outputs": []
    },
    {
      "cell_type": "markdown",
      "source": [
        "##CUR Class"
      ],
      "metadata": {
        "id": "wIWSKXV630FP"
      }
    },
    {
      "cell_type": "code",
      "source": [
        "random.seed(42)\n",
        "class CUR_Decomposition:\n",
        "    \"\"\"\n",
        "    Class implementing CUR decomposition for dimensionality reduction.\n",
        "    C: Selected columns from original matrix\n",
        "    U: Connecting matrix\n",
        "    R: Selected rows from original matrix\n",
        "    \"\"\"\n",
        "\n",
        "    def __init__(self, target_dim=5, seed=42):\n",
        "        \"\"\"\n",
        "        Initialize CUR decomposition.\n",
        "\n",
        "        Parameters:\n",
        "        -----------\n",
        "        target_dim : int\n",
        "            Target dimensionality after reduction\n",
        "        seed : int\n",
        "            Random seed for reproducibility\n",
        "        \"\"\"\n",
        "        self.target_dim = target_dim\n",
        "        self.seed = seed\n",
        "        self.column_indices = None\n",
        "        self.column_probabilities = None\n",
        "        self.row_indices = None\n",
        "        self.U_matrix = None\n",
        "        random.seed(seed)\n",
        "        np.random.seed(seed)\n",
        "\n",
        "    def fit(self, data, features_col=\"features\"):\n",
        "        \"\"\"\n",
        "        Fit the CUR decomposition.\n",
        "\n",
        "        Parameters:\n",
        "        -----------\n",
        "        data : DataFrame\n",
        "            Spark DataFrame with feature column\n",
        "        features_col : str\n",
        "            Name of the column containing feature vectors\n",
        "\n",
        "        Returns:\n",
        "        --------\n",
        "        self\n",
        "        \"\"\"\n",
        "        #Step 1: Convert to RDD of vectors for RowMatrix\n",
        "        start_time = time.time()\n",
        "\n",
        "        #Extract vectors from dataframe to RDD\n",
        "        vector_rdd = data.select(features_col).rdd.map(lambda row: MLLibVectors.fromML(row[0]))\n",
        "\n",
        "        #Create a RowMatrix\n",
        "        mat = RowMatrix(vector_rdd)\n",
        "\n",
        "        #Get dimensions\n",
        "        m = mat.numRows()\n",
        "        n = mat.numCols()\n",
        "\n",
        "        print(f\"Matrix dimensions: {m} rows x {n} columns\")\n",
        "\n",
        "        #Step 2: Compute SVD to get leverage scores\n",
        "        svd = mat.computeSVD(n, computeU=True)\n",
        "        s = svd.s\n",
        "        V = svd.V\n",
        "\n",
        "        print(f\"SVD computation time: {time.time() - start_time:.2f} seconds\")\n",
        "\n",
        "        #Step 3: Calculate column probabilities (leverage scores)\n",
        "        #For columns: Leverage scores based on right singular vectors\n",
        "        squared_V = np.square(V.toArray())\n",
        "        col_leverage = np.sum(squared_V, axis=0)\n",
        "        col_probs = col_leverage / np.sum(col_leverage)\n",
        "\n",
        "        #Step 4: Sample columns according to their probabilities\n",
        "        self.column_indices = np.random.choice(\n",
        "            n, size=self.target_dim, replace=False, p=col_probs\n",
        "        )\n",
        "        self.column_indices = sorted(self.column_indices)\n",
        "        self.column_probabilities = col_probs[self.column_indices]\n",
        "\n",
        "        print(f\"Selected columns: {self.column_indices}\")\n",
        "        print(f\"With probabilities: {self.column_probabilities}\")\n",
        "\n",
        "        return self\n",
        "\n",
        "    def transform(self, data, features_col=\"features\"):\n",
        "        \"\"\"\n",
        "        Transform data using CUR decomposition.\n",
        "\n",
        "        Parameters:\n",
        "        -----------\n",
        "        data : DataFrame\n",
        "            DataFrame to transform\n",
        "        features_col : str\n",
        "            Name of the column containing feature vectors\n",
        "\n",
        "        Returns:\n",
        "        --------\n",
        "        DataFrame\n",
        "            DataFrame with reduced features\n",
        "        \"\"\"\n",
        "        if self.column_indices is None:\n",
        "            raise ValueError(\"CUR decomposition not fitted yet.\")\n",
        "\n",
        "        #Create UDF to extract selected columns from feature vector\n",
        "        @udf(returnType=VectorUDT())\n",
        "        def extract_columns(vector):\n",
        "            if vector is None:\n",
        "                return None\n",
        "\n",
        "            features = vector.toArray()\n",
        "            selected_features = [features[idx] for idx in self.column_indices]\n",
        "            return MLVectors.dense(selected_features)\n",
        "\n",
        "        #Apply transformation\n",
        "        result = data.withColumn(\"features_cur\", extract_columns(col(features_col)))\n",
        "\n",
        "        return result"
      ],
      "metadata": {
        "id": "-B1A-FbM4R7s"
      },
      "execution_count": null,
      "outputs": []
    },
    {
      "cell_type": "markdown",
      "source": [
        "##Prepare Data"
      ],
      "metadata": {
        "id": "kV-XIQYt4gHw"
      }
    },
    {
      "cell_type": "code",
      "source": [
        "def load_and_preprocess_data(file_path):\n",
        "    \"\"\"\n",
        "    Load and preprocess gold price data.\n",
        "    \"\"\"\n",
        "    df = spark.read.csv(file_path, header=True, inferSchema=True)\n",
        "    df = df.withColumn(\"Date\", col(\"Date\").cast(\"date\")).orderBy(\"Date\")\n",
        "\n",
        "    #Create lag features using PySpark's distributed APIs\n",
        "    windowSpec = Window.orderBy(\"Date\")\n",
        "    for i in range(1, 11):\n",
        "        df = df.withColumn(f\"lag_{i}\", lag(\"Sell Price\", i).over(windowSpec))\n",
        "\n",
        "    #Drop rows with null values\n",
        "    df = df.na.drop()\n",
        "    return df"
      ],
      "metadata": {
        "id": "BDL0NPkS490T"
      },
      "execution_count": null,
      "outputs": []
    },
    {
      "cell_type": "markdown",
      "source": [
        "##Train and evaluate model"
      ],
      "metadata": {
        "id": "J7jQ7TFw5Lrd"
      }
    },
    {
      "cell_type": "code",
      "source": [
        "def train_and_evaluate_model(train_data, test_data, features_col=\"features\", label_col=\"label\", model_name=\"Model\"):\n",
        "    \"\"\"\n",
        "    Train and evaluate a LinearRegression model.\n",
        "    \"\"\"\n",
        "    #Configure and train the Linear Regression model\n",
        "    lr = LinearRegression(\n",
        "        featuresCol=features_col,\n",
        "        labelCol=label_col,\n",
        "        maxIter=100,\n",
        "        regParam=0.1,\n",
        "        elasticNetParam=0.5,\n",
        "        standardization=True,\n",
        "        tol=1e-12,\n",
        "        solver=\"l-bfgs\"\n",
        "    )\n",
        "\n",
        "    #Train model\n",
        "    start_time = time.time()\n",
        "    model = lr.fit(train_data)\n",
        "    print(f\"Training time: {time.time() - start_time:.2f} seconds\")\n",
        "\n",
        "    #Evaluate the model\n",
        "    evaluator = RegressionEvaluator(predictionCol=\"prediction\", labelCol=label_col)\n",
        "\n",
        "    #Get metrics\n",
        "    train_pred = model.transform(train_data)\n",
        "    test_pred = model.transform(test_data)\n",
        "\n",
        "    train_rmse = evaluator.setMetricName(\"rmse\").evaluate(train_pred)\n",
        "    test_rmse = evaluator.setMetricName(\"rmse\").evaluate(test_pred)\n",
        "    train_r2 = evaluator.setMetricName(\"r2\").evaluate(train_pred)\n",
        "    test_r2 = evaluator.setMetricName(\"r2\").evaluate(test_pred)\n",
        "\n",
        "    print(f\"{model_name} Training RMSE: {train_rmse:.4f}\")\n",
        "    print(f\"{model_name} Test RMSE: {test_rmse:.4f}\")\n",
        "    print(f\"{model_name} Training R²: {train_r2:.4f}\")\n",
        "    print(f\"{model_name} Test R²: {test_r2:.4f}\")\n",
        "\n",
        "    return {\n",
        "        'train_rmse': train_rmse,\n",
        "        'test_rmse': test_rmse,\n",
        "        'train_r2': train_r2,\n",
        "        'test_r2': test_r2,\n",
        "    }"
      ],
      "metadata": {
        "id": "TnqV8RBK5T-C"
      },
      "execution_count": null,
      "outputs": []
    },
    {
      "cell_type": "markdown",
      "source": [
        "##Visualize"
      ],
      "metadata": {
        "id": "NY1jB4EW5hQV"
      }
    },
    {
      "cell_type": "code",
      "source": [
        "def create_comparison_visualization(original_metrics, cur_metrics):\n",
        "    \"\"\"\n",
        "    Create a bar chart comparing original and CUR results.\n",
        "    \"\"\"\n",
        "    labels = ['Training RMSE', 'Test RMSE']\n",
        "    original_values = [original_metrics['train_rmse'], original_metrics['test_rmse']]\n",
        "    cur_values = [cur_metrics['train_rmse'], cur_metrics['test_rmse']]\n",
        "\n",
        "    x = np.arange(len(labels))\n",
        "    width = 0.35\n",
        "\n",
        "    fig, ax = plt.subplots(figsize=(10, 6))\n",
        "    original_bars = ax.bar(x - width/2, original_values, width, label='Original (10 features)')\n",
        "    cur_bars = ax.bar(x + width/2, cur_values, width, label='CUR-reduced (5 features)')\n",
        "\n",
        "    #Add labels and formatting\n",
        "    ax.set_ylabel('RMSE Loss')\n",
        "    ax.set_title('Comparison of Loss Between Original and CUR-reduced Models')\n",
        "    ax.set_xticks(x)\n",
        "    ax.set_xticklabels(labels)\n",
        "    ax.legend()\n",
        "    ax.grid(axis='y', linestyle='--', alpha=0.7)\n",
        "\n",
        "    def add_labels(bars):\n",
        "        for bar in bars:\n",
        "            height = bar.get_height()\n",
        "            ax.annotate(f'{height:.4f}',\n",
        "                      xy=(bar.get_x() + bar.get_width() / 2, height),\n",
        "                      xytext=(0, 3),  # 3 points vertical offset\n",
        "                      textcoords=\"offset points\",\n",
        "                      ha='center', va='bottom')\n",
        "\n",
        "    add_labels(original_bars)\n",
        "    add_labels(cur_bars)\n",
        "\n",
        "    plt.tight_layout()\n",
        "    plt.show()"
      ],
      "metadata": {
        "id": "kExN8BVR5iZJ"
      },
      "execution_count": null,
      "outputs": []
    },
    {
      "cell_type": "markdown",
      "source": [
        "##Main"
      ],
      "metadata": {
        "id": "EKHWXkA4564B"
      }
    },
    {
      "cell_type": "code",
      "execution_count": null,
      "metadata": {
        "id": "fQk5VHwfFXnZ",
        "colab": {
          "base_uri": "https://localhost:8080/",
          "height": 1000
        },
        "outputId": "6e7e502a-c0a7-42ce-ca00-894df0c0f047",
        "collapsed": true
      },
      "outputs": [
        {
          "output_type": "stream",
          "name": "stdout",
          "text": [
            "\n",
            "Loading and preprocessing data...\n",
            "Dataset sample:\n",
            "+----------+---------+----------+-----+-----+-----+-----+-----+-----+-----+-----+-----+------+\n",
            "|      Date|Buy Price|Sell Price|lag_1|lag_2|lag_3|lag_4|lag_5|lag_6|lag_7|lag_8|lag_9|lag_10|\n",
            "+----------+---------+----------+-----+-----+-----+-----+-----+-----+-----+-----+-----+------+\n",
            "|2009-08-11|    21.13|     21.19|21.19|21.19|21.19|21.19|21.19|21.19|21.19|21.19|21.19| 21.19|\n",
            "|2009-08-12|    21.13|     21.19|21.19|21.19|21.19|21.19|21.19|21.19|21.19|21.19|21.19| 21.19|\n",
            "|2009-08-13|    21.13|     21.19|21.19|21.19|21.19|21.19|21.19|21.19|21.19|21.19|21.19| 21.19|\n",
            "|2009-08-14|    21.13|     21.19|21.19|21.19|21.19|21.19|21.19|21.19|21.19|21.19|21.19| 21.19|\n",
            "|2009-08-15|    21.13|     21.19|21.19|21.19|21.19|21.19|21.19|21.19|21.19|21.19|21.19| 21.19|\n",
            "+----------+---------+----------+-----+-----+-----+-----+-----+-----+-----+-----+-----+------+\n",
            "only showing top 5 rows\n",
            "\n",
            "\n",
            "Creating feature vectors...\n",
            "\n",
            "Splitting data...\n",
            "Training set size: 3964\n",
            "Test set size: 1591\n",
            "\n",
            "=== Original Model (10 features) ===\n",
            "Training time: 19.11 seconds\n",
            "Original Model Training RMSE: 0.4400\n",
            "Original Model Test RMSE: 0.3742\n",
            "Original Model Training R²: 0.9992\n",
            "Original Model Test R²: 0.9994\n",
            "\n",
            "=== Applying CUR Decomposition ===\n",
            "Matrix dimensions: 5555 rows x 10 columns\n",
            "SVD computation time: 5.41 seconds\n",
            "Selected columns: [np.int64(1), np.int64(3), np.int64(5), np.int64(7), np.int64(9)]\n",
            "With probabilities: [0.1 0.1 0.1 0.1 0.1]\n",
            "\n",
            "Transforming data with CUR...\n",
            "\n",
            "Sample of CUR-transformed data:\n",
            "+-------------------------------+\n",
            "|features_cur                   |\n",
            "+-------------------------------+\n",
            "|[21.19,21.19,21.19,21.19,21.19]|\n",
            "|[21.19,21.19,21.19,21.19,21.19]|\n",
            "+-------------------------------+\n",
            "only showing top 2 rows\n",
            "\n",
            "\n",
            "=== CUR-Reduced Model (5 features) ===\n",
            "Training time: 5.22 seconds\n",
            "CUR-reduced Model Training RMSE: 0.5638\n",
            "CUR-reduced Model Test RMSE: 0.4610\n",
            "CUR-reduced Model Training R²: 0.9986\n",
            "CUR-reduced Model Test R²: 0.9991\n",
            "\n",
            "Creating comparison visualization...\n"
          ]
        },
        {
          "output_type": "display_data",
          "data": {
            "text/plain": [
              "<Figure size 1000x600 with 1 Axes>"
            ],
            "image/png": "[encoded data removed]"
          },
          "metadata": {}
        },
        {
          "output_type": "stream",
          "name": "stdout",
          "text": [
            "\n",
            "Total runtime: 37.80 seconds\n"
          ]
        }
      ],
      "source": [
        "def main():\n",
        "    try:\n",
        "        start_time = time.time()\n",
        "\n",
        "        #Load and preprocess data\n",
        "        print(\"\\nLoading and preprocessing data...\")\n",
        "        df = load_and_preprocess_data(\"gold_prices.csv\")\n",
        "        print(\"Dataset sample:\")\n",
        "        df.show(5)\n",
        "\n",
        "        #Define feature columns\n",
        "        feature_cols = [f\"lag_{i}\" for i in range(1, 11)]\n",
        "\n",
        "        #Create feature vector for original data\n",
        "        print(\"\\nCreating feature vectors...\")\n",
        "        assembler = VectorAssembler(inputCols=feature_cols, outputCol=\"features\")\n",
        "        vector_df = assembler.transform(df).select(\n",
        "            \"Date\", \"features\", col(\"Sell Price\").alias(\"label\"), *feature_cols)\n",
        "\n",
        "        #Cache dataframe for performance\n",
        "        vector_df.cache()\n",
        "\n",
        "        #Split data into training and test sets\n",
        "        print(\"\\nSplitting data...\")\n",
        "        train_data, test_data = vector_df.randomSplit([0.7, 0.3], seed=42)\n",
        "        print(f\"Training set size: {train_data.count()}\")\n",
        "        print(f\"Test set size: {test_data.count()}\")\n",
        "\n",
        "        #Train and evaluate original model\n",
        "        print(\"\\n=== Original Model (10 features) ===\")\n",
        "        original_metrics = train_and_evaluate_model(\n",
        "            train_data, test_data, \"features\", \"label\", \"Original Model\")\n",
        "\n",
        "        #Apply CUR decomposition\n",
        "        print(\"\\n=== Applying CUR Decomposition ===\")\n",
        "        cur = CUR_Decomposition(target_dim=5, seed=42)\n",
        "        cur.fit(vector_df)\n",
        "\n",
        "        #Transform data using CUR\n",
        "        print(\"\\nTransforming data with CUR...\")\n",
        "        cur_train_data = cur.transform(train_data)\n",
        "        cur_test_data = cur.transform(test_data)\n",
        "\n",
        "        #Show sample of transformed data\n",
        "        print(\"\\nSample of CUR-transformed data:\")\n",
        "        cur_train_data.select(\"features_cur\").show(2, truncate=False)\n",
        "\n",
        "        #Train and evaluate CUR-reduced model\n",
        "        print(\"\\n=== CUR-Reduced Model (5 features) ===\")\n",
        "        cur_metrics = train_and_evaluate_model(\n",
        "            cur_train_data, cur_test_data, \"features_cur\", \"label\", \"CUR-reduced Model\")\n",
        "\n",
        "        #Create comparison visualization\n",
        "        print(\"\\nCreating comparison visualization...\")\n",
        "        create_comparison_visualization(original_metrics, cur_metrics)\n",
        "\n",
        "        #Print overall runtime\n",
        "        total_time = time.time() - start_time\n",
        "        print(f\"\\nTotal runtime: {total_time:.2f} seconds\")\n",
        "\n",
        "    except Exception as e:\n",
        "        print(f\"Error: {str(e)}\")\n",
        "        import traceback\n",
        "        traceback.print_exc()\n",
        "    finally:\n",
        "        if 'vector_df' in locals():\n",
        "            vector_df.unpersist()\n",
        "        spark.stop()\n",
        "\n",
        "if __name__ == \"__main__\":\n",
        "    main()"
      ]
    }
  ],
  "metadata": {
    "colab": {
      "provenance": [],
      "toc_visible": true
    },
    "kernelspec": {
      "display_name": "Python 3",
      "name": "python3"
    },
    "language_info": {
      "name": "python"
    }
  },
  "nbformat": 4,
  "nbformat_minor": 0
}