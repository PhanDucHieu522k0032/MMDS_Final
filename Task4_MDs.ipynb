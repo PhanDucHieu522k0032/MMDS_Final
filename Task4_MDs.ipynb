{
  "cells": [
    {
      "cell_type": "code",
      "execution_count": 1,
      "metadata": {
        "id": "r5sECV0hr-EA"
      },
      "outputs": [],
      "source": [
        "from pyspark.sql import SparkSession\n",
        "from pyspark.sql.functions import col, explode, lit, coalesce, collect_list, size, sum as Fsum\n",
        "from urllib.parse import urljoin, urlparse\n",
        "from bs4 import BeautifulSoup\n",
        "import requests\n",
        "import csv\n",
        "import os\n",
        "\n",
        "spark = SparkSession.builder \\\n",
        "    .appName(\"Task04_PageRank\") \\\n",
        "    .getOrCreate()\n"
      ]
    },
    {
      "cell_type": "code",
      "execution_count": 2,
      "metadata": {
        "id": "ueJyuWS5sBOP"
      },
      "outputs": [],
      "source": [
        "def normalize_url(base_url, link):\n",
        "    parsed = urlparse(link)\n",
        "    if parsed.netloc and parsed.netloc != urlparse(base_url).netloc:\n",
        "        return None\n",
        "    url = urljoin(base_url, parsed.path or \"\")\n",
        "    url = url.split('#')[0]\n",
        "    if url.endswith('/') and len(url) > len(base_url):\n",
        "        url = url[:-1]\n",
        "    return url\n",
        "\n",
        "def crawl_and_save(start_url, output_csv, max_pages=5000, max_depth=3):\n",
        "    from collections import deque\n",
        "\n",
        "    visited = set([start_url])\n",
        "    queue = deque([(start_url, 0)])\n",
        "    static_ext = {'.jpg', '.jpeg', '.png', '.gif', '.svg', '.css', '.js',\n",
        "                  '.ico', '.pdf', '.mp4', '.woff', '.ttf'}\n",
        "\n",
        "    with open(output_csv, 'w', newline='', encoding='utf-8') as f:\n",
        "        writer = csv.writer(f)\n",
        "        writer.writerow([\"src\", \"dst\"])\n",
        "\n",
        "        while queue and len(visited) < max_pages:\n",
        "            src, depth = queue.popleft()\n",
        "            if depth >= max_depth:\n",
        "                continue\n",
        "            try:\n",
        "                resp = requests.get(src, timeout=5)\n",
        "                if 'text/html' not in resp.headers.get('Content-Type', ''):\n",
        "                    continue\n",
        "                soup = BeautifulSoup(resp.text, 'html.parser')\n",
        "                for a in soup.find_all('a', href=True):\n",
        "                    dst = normalize_url(start_url, a['href'])\n",
        "                    if not dst or any(dst.lower().endswith(ext) for ext in static_ext):\n",
        "                        continue\n",
        "                    writer.writerow([src, dst])\n",
        "                    if dst not in visited:\n",
        "                        visited.add(dst)\n",
        "                        queue.append((dst, depth + 1))\n",
        "            except:\n",
        "                pass\n"
      ]
    },
    {
      "cell_type": "code",
      "execution_count": 3,
      "metadata": {
        "id": "cB4kYk29m1lQ"
      },
      "outputs": [],
      "source": [
        "start_url = \"https://it.tdtu.edu.vn\"\n",
        "edge_file = \"edges.csv\"\n",
        "\n",
        "# Step 1: crawl and write directly to disk\n",
        "crawl_and_save(start_url, edge_file, max_pages=5000, max_depth=3)\n",
        "\n",
        "# Step 2: load edges into Spark\n",
        "edges_df = spark.read.csv(edge_file, header=True) \\\n",
        "                     .select(col(\"src\"), col(\"dst\")) \\\n",
        "                     .persist()\n"
      ]
    },
    {
      "cell_type": "code",
      "execution_count": 4,
      "metadata": {
        "id": "YLROEShYkFW7"
      },
      "outputs": [],
      "source": [
        "class PageRank:\n",
        "    def __init__(self, edges_df, damping=0.85):\n",
        "        self.edges = edges_df\n",
        "        self.damping = damping\n",
        "\n",
        "    def run(self, num_iters=10):\n",
        "        src_pages = self.edges.select(\"src\").distinct()\n",
        "        dst_pages = self.edges.select(\"dst\").distinct()\n",
        "        pages = src_pages.union(dst_pages).distinct().persist()\n",
        "\n",
        "        N = pages.count()\n",
        "        ranks = pages.withColumn(\"rank\", lit(1.0 / N))\n",
        "\n",
        "        links = self.edges.groupBy(\"src\") \\\n",
        "                          .agg(collect_list(\"dst\").alias(\"neighbors\")) \\\n",
        "                          .persist()\n",
        "\n",
        "        for _ in range(num_iters):\n",
        "            contribs = links.join(ranks, \"src\") \\\n",
        "                            .select(explode(\"neighbors\").alias(\"dst\"),\n",
        "                                    (col(\"rank\") / size(\"neighbors\")).alias(\"contrib\"))\n",
        "\n",
        "            sums = contribs.groupBy(\"dst\") \\\n",
        "                           .agg(Fsum(\"contrib\").alias(\"total_contrib\"))\n",
        "\n",
        "            dangling = ranks.join(links, \"src\", \"left_anti\")\n",
        "            dangling_sum = dangling.agg(Fsum(\"rank\")).first()[0] or 0.0\n",
        "            dangling_share = dangling_sum / N\n",
        "\n",
        "            teleport = (1.0 - self.damping) / N\n",
        "\n",
        "            ranks = pages.withColumnRenamed(\"src\", \"dst\") \\\n",
        "                         .join(sums, \"dst\", how=\"left\") \\\n",
        "                         .select(\n",
        "                             col(\"dst\").alias(\"src\"),\n",
        "                             (lit(teleport) +\n",
        "                              lit(self.damping) * (\n",
        "                                  coalesce(col(\"total_contrib\"), lit(0.0)) +\n",
        "                                  lit(dangling_share)\n",
        "                              )).alias(\"rank\")\n",
        "                         )\n",
        "\n",
        "        self.ranks = ranks.persist()\n",
        "        return self.ranks\n"
      ]
    },
    {
      "cell_type": "code",
      "execution_count": 5,
      "metadata": {
        "colab": {
          "base_uri": "https://localhost:8080/"
        },
        "id": "u4uaZqHWsJKG",
        "outputId": "9a463542-bf63-4f23-9f2f-e07e77ede4dd"
      },
      "outputs": [
        {
          "output_type": "stream",
          "name": "stdout",
          "text": [
            "+-----------------------------------------------------------------------------------------------------------------------+--------------------+\n",
            "|src                                                                                                                    |rank                |\n",
            "+-----------------------------------------------------------------------------------------------------------------------+--------------------+\n",
            "|https://it.tdtu.edu.vn                                                                                                 |0.07672297279113768 |\n",
            "|https://it.tdtu.edu.vn/giao-duc                                                                                        |0.04427371946846487 |\n",
            "|https://it.tdtu.edu.vn/tuyen-sinh                                                                                      |0.03661015116861993 |\n",
            "|https://it.tdtu.edu.vn/gioi-thieu                                                                                      |0.03627394582362061 |\n",
            "|https://it.tdtu.edu.vn/khoa-hoc-cong-nghe                                                                              |0.03594937087248465 |\n",
            "|https://it.tdtu.edu.vn/doanh-nghiep                                                                                    |0.03594937087248465 |\n",
            "|https://it.tdtu.edu.vn/en                                                                                              |0.02261254894641287 |\n",
            "|https://it.tdtu.edu.vn/tin-tuc/tuyen-dung                                                                              |0.021473131893514536|\n",
            "|https://it.tdtu.edu.vn/khoacntt@tdtu.edu.vn                                                                            |0.021467248520386797|\n",
            "|https://it.tdtu.edu.vn/void(0)                                                                                         |0.020920407011795174|\n",
            "|https://it.tdtu.edu.vn/iconclub                                                                                        |0.019539768589939697|\n",
            "|https://it.tdtu.edu.vn/tin-tuc                                                                                         |0.01935719937847613 |\n",
            "|https://it.tdtu.edu.vn/giao-vien                                                                                       |0.0183714929802142  |\n",
            "|https://it.tdtu.edu.vn/tin-tuc-khoa                                                                                    |0.0183714929802142  |\n",
            "|https://it.tdtu.edu.vn/vien-chuc                                                                                       |0.0183714929802142  |\n",
            "|https://it.tdtu.edu.vn/sinh-vien                                                                                       |0.0183714929802142  |\n",
            "|https://it.tdtu.edu.vn/en/research                                                                                     |0.005429198189862814|\n",
            "|https://it.tdtu.edu.vn/en/education                                                                                    |0.005429198189862814|\n",
            "|https://it.tdtu.edu.vn/vong-chung-ket-cuoc-thi-tech-startup-challenger-2025-be-phong-cho-nhung-y-tuong-khoi-nghiep-cong|0.0044458388705826  |\n",
            "|https://it.tdtu.edu.vn/doi-olympic-tin-hoc-cua-khoa-cntt-tu-hao-gat-hai-thanh-tich-an-tuong-tai-ky-thi-olympic-tin-hoc |0.004442625741661398|\n",
            "+-----------------------------------------------------------------------------------------------------------------------+--------------------+\n",
            "only showing top 20 rows\n",
            "\n"
          ]
        }
      ],
      "source": [
        "# Run PageRank\n",
        "pr = PageRank(edges_df, damping=0.85)\n",
        "final_ranks = pr.run(num_iters=20)\n",
        "\n",
        "# Show top 20 ranked pages\n",
        "final_ranks.orderBy(col(\"rank\").desc()) \\\n",
        "           .show(20, truncate=False)\n",
        "\n",
        "# Write results to disk\n",
        "final_ranks.orderBy(col(\"rank\").desc()) \\\n",
        "           .write.csv(\"pagerank_output\", header=True, mode=\"overwrite\")\n",
        "\n",
        "spark.stop()\n"
      ]
    }
  ],
  "metadata": {
    "colab": {
      "provenance": []
    },
    "kernelspec": {
      "display_name": "Python 3",
      "name": "python3"
    },
    "language_info": {
      "name": "python"
    }
  },
  "nbformat": 4,
  "nbformat_minor": 0
}