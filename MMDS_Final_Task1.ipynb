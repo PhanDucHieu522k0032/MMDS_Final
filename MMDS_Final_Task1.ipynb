{
  "cells": [
    {
      "cell_type": "markdown",
      "metadata": {
        "id": "OYZMXNxJuxzf"
      },
      "source": [
        "#Task 1 : Hierarchical clustering in non-Euclidean spaces"
      ]
    },
    {
      "cell_type": "code",
      "execution_count": null,
      "metadata": {
        "id": "ZoVn90UtuBJq"
      },
      "outputs": [],
      "source": [
        "# Cell 1: Imports and Setup\n",
        "from random import choice, randint\n",
        "from string import ascii_letters\n",
        "from collections import deque\n",
        "import numpy as np\n",
        "import pandas as pd\n",
        "from sklearn.preprocessing import MultiLabelBinarizer\n",
        "from ast import literal_eval\n",
        "import csv\n",
        "from tqdm import tqdm"
      ]
    },
    {
      "cell_type": "code",
      "execution_count": null,
      "metadata": {
        "id": "3ofhZC6SuK-R"
      },
      "outputs": [],
      "source": [
        "# Cell 2: Limited Vocabulary Dataset Generation\n",
        "words = [\"\".join(choice(ascii_letters) for _ in range(4)) for _ in range(10)]\n",
        "dataset = []\n",
        "\n",
        "for i in range(10000):\n",
        "    r = [i]\n",
        "    s = \"\"\n",
        "    length = randint(32, 64)\n",
        "\n",
        "    while len(s) < length:\n",
        "        s += choice(words)\n",
        "\n",
        "    r.append(s)\n",
        "    r.append([s[j : j + 4] for j in range(len(s) - 3)])\n",
        "    dataset.append(r)"
      ]
    },
    {
      "cell_type": "code",
      "execution_count": null,
      "metadata": {
        "id": "2vCjVG0ZuQMJ"
      },
      "outputs": [],
      "source": [
        "# Cell 3: Save to CSV\n",
        "with open(\"dataset.csv\", \"w\") as f:\n",
        "    w = csv.writer(f)\n",
        "    w.writerow([\"index\", \"string\", \"shingles\"])\n",
        "    w.writerows(dataset)"
      ]
    },
    {
      "cell_type": "code",
      "execution_count": null,
      "metadata": {
        "id": "2EmB8LJ_uT_K"
      },
      "outputs": [],
      "source": [
        "# Cell 4: Load Dataset\n",
        "df = pd.read_csv(\"dataset.csv\", index_col=\"index\")\n",
        "df[\"shingles\"] = df[\"shingles\"].apply(literal_eval)"
      ]
    },
    {
      "cell_type": "code",
      "execution_count": null,
      "metadata": {
        "id": "TVQPDQDk3BC2"
      },
      "outputs": [],
      "source": [
        "# Cell 5: Binarize with MultiLabelBinarizer\n",
        "features = MultiLabelBinarizer().fit_transform(df[\"shingles\"].apply(lambda x: map(str.casefold, x)))"
      ]
    },
    {
      "cell_type": "code",
      "execution_count": null,
      "metadata": {
        "id": "ZdwRSYA83BC2"
      },
      "outputs": [],
      "source": [
        "# Cell 6: Agglomerative Clustering with NN-Chain and Progress\n",
        "class AgglomerativeClustering:\n",
        "    def __init__(self, n_clusters=3, jump_threshold=None, seed=42):\n",
        "        self.n_clusters = n_clusters\n",
        "        self.jump_threshold = jump_threshold\n",
        "        self.seed = seed\n",
        "\n",
        "    def fit(self, X):\n",
        "        clusters = pd.DataFrame(\n",
        "            [(i, [i]) for i in range(len(X))],\n",
        "            columns=[\"clustroid\", \"points\"],\n",
        "        )\n",
        "\n",
        "        stack = deque([])\n",
        "        rng = np.random.default_rng(self.seed)\n",
        "        last_diameter = 0\n",
        "\n",
        "        pbar = tqdm(total=len(clusters) - self.n_clusters - 1, desc=\"Clustering\")\n",
        "\n",
        "        while len(clusters) > self.n_clusters + 1:\n",
        "            if len(stack) == 0:\n",
        "                stack.appendleft(\n",
        "                    clusters[\"clustroid\"].sample(1, random_state=rng).item()\n",
        "                )\n",
        "\n",
        "            cid = stack[0]\n",
        "            clustroids = clusters.loc[\n",
        "                clusters[\"clustroid\"] != cid, \"clustroid\"\n",
        "            ].values\n",
        "\n",
        "            dist = X[clustroids, :]\n",
        "            s = dist.dot(X[cid])\n",
        "            u = X.shape[1] - (1 - dist).dot(1 - X[cid])\n",
        "            jd = 1 - s / u\n",
        "            d = clustroids[jd.argmin()]\n",
        "\n",
        "            if d in stack:\n",
        "                stack.popleft()\n",
        "                stack.remove(d)\n",
        "\n",
        "                points = np.array(\n",
        "                    clusters.loc[clusters[\"clustroid\"] == d, \"points\"].item()\n",
        "                    + clusters.loc[clusters[\"clustroid\"] == cid, \"points\"].item()\n",
        "                )\n",
        "\n",
        "                dist = X[points, :]\n",
        "                odist = dist.T\n",
        "\n",
        "                s = dist.dot(odist)\n",
        "                u = X.shape[1] - (1 - dist).dot(1 - odist)\n",
        "                jd = 1 - s / u\n",
        "\n",
        "                if self.jump_threshold is not None:\n",
        "                    diameter = jd.max()\n",
        "\n",
        "                    if np.abs(last_diameter - diameter) > self.jump_threshold:\n",
        "                        print(\n",
        "                            f\"Merging clusters with clustroid {cid} and {d} yielded a bad cluster with a jump of {np.abs(last_diameter - diameter)}.\"\n",
        "                        )\n",
        "                        break\n",
        "\n",
        "                    last_diameter = diameter\n",
        "\n",
        "                clustroid = points[np.square(jd).sum(axis=1).argmin()]\n",
        "\n",
        "                clusters.loc[clusters[\"clustroid\"] == cid, \"clustroid\"] = clustroid\n",
        "                clusters.loc[clusters[\"clustroid\"] == d, \"clustroid\"] = clustroid\n",
        "                clusters = clusters.groupby([\"clustroid\"], as_index=False).agg(\n",
        "                    {\"points\": \"sum\"}\n",
        "                )\n",
        "\n",
        "                pbar.update(1)\n",
        "            else:\n",
        "                stack.appendleft(d)\n",
        "\n",
        "        pbar.close()\n",
        "\n",
        "        self.labels = (\n",
        "            clusters.explode(\"points\").sort_values(\"points\")[\"clustroid\"].values\n",
        "        )\n",
        "\n",
        "        return self\n",
        "\n",
        "    def fit_predict(self, X):\n",
        "        self.fit(X)\n",
        "        return self.labels"
      ]
    },
    {
      "cell_type": "code",
      "execution_count": null,
      "metadata": {
        "colab": {
          "base_uri": "https://localhost:8080/"
        },
        "id": "VnUgX5Uu3BC2",
        "outputId": "58dc4c6f-5a48-4422-812a-2235b97940b1"
      },
      "outputs": [
        {
          "output_type": "stream",
          "name": "stderr",
          "text": [
            "Clustering: 100%|██████████| 9989/9989 [07:17<00:00, 22.83it/s]\n"
          ]
        }
      ],
      "source": [
        "# Cell 7: Run Clustering\n",
        "ac = AgglomerativeClustering(n_clusters=10, jump_threshold=0.8, seed=42)\n",
        "labels = ac.fit_predict(features)"
      ]
    },
    {
      "cell_type": "code",
      "execution_count": null,
      "metadata": {
        "colab": {
          "base_uri": "https://localhost:8080/"
        },
        "id": "tlNfy4753BC3",
        "outputId": "d184a6e9-8a24-409a-ec4e-5d0cac07439c"
      },
      "outputs": [
        {
          "output_type": "execute_result",
          "data": {
            "text/plain": [
              "index\n",
              "585              npnkGjqlGjqlvWqxGjqliziTplznplznvWqxGjql\n",
              "1790    plznaUabnpnkFnnOGGNFaUabGGNFHCUKaUabGjqlFnnOHC...\n",
              "2602    iziTnpnkGjqlvWqxnpnkGGNFHCUKnpnkaUabnDKJFnnOnp...\n",
              "3415                 vWqxvWqxnpnknpnkGGNFGGNFiziTHCUKvWqx\n",
              "3496    HCUKvWqxFnnOaUabiziTvWqxaUabnDKJvWqxFnnOnpnkvW...\n",
              "4586                     vWqxnDKJnDKJHCUKaUabiziTnDKJHCUK\n",
              "4967                 GGNFvWqxFnnOiziTGjqlnpnkFnnOiziTFnnO\n",
              "6783     iziTHCUKnDKJHCUKHCUKiziTiziTiziTnpnkFnnOnDKJHCUK\n",
              "7036         HCUKiziTHCUKiziTplznaUabHCUKGGNFnpnkiziTFnnO\n",
              "8233             GGNFFnnOGjqlaUabvWqxGGNFiziTaUabaUabnDKJ\n",
              "8765                 HCUKplznaUabnDKJaUabFnnOFnnOplznplzn\n",
              "Name: string, dtype: object"
            ],
            "text/html": [
              "<div>\n",
              "<style scoped>\n",
              "    .dataframe tbody tr th:only-of-type {\n",
              "        vertical-align: middle;\n",
              "    }\n",
              "\n",
              "    .dataframe tbody tr th {\n",
              "        vertical-align: top;\n",
              "    }\n",
              "\n",
              "    .dataframe thead th {\n",
              "        text-align: right;\n",
              "    }\n",
              "</style>\n",
              "<table border=\"1\" class=\"dataframe\">\n",
              "  <thead>\n",
              "    <tr style=\"text-align: right;\">\n",
              "      <th></th>\n",
              "      <th>string</th>\n",
              "    </tr>\n",
              "    <tr>\n",
              "      <th>index</th>\n",
              "      <th></th>\n",
              "    </tr>\n",
              "  </thead>\n",
              "  <tbody>\n",
              "    <tr>\n",
              "      <th>585</th>\n",
              "      <td>npnkGjqlGjqlvWqxGjqliziTplznplznvWqxGjql</td>\n",
              "    </tr>\n",
              "    <tr>\n",
              "      <th>1790</th>\n",
              "      <td>plznaUabnpnkFnnOGGNFaUabGGNFHCUKaUabGjqlFnnOHC...</td>\n",
              "    </tr>\n",
              "    <tr>\n",
              "      <th>2602</th>\n",
              "      <td>iziTnpnkGjqlvWqxnpnkGGNFHCUKnpnkaUabnDKJFnnOnp...</td>\n",
              "    </tr>\n",
              "    <tr>\n",
              "      <th>3415</th>\n",
              "      <td>vWqxvWqxnpnknpnkGGNFGGNFiziTHCUKvWqx</td>\n",
              "    </tr>\n",
              "    <tr>\n",
              "      <th>3496</th>\n",
              "      <td>HCUKvWqxFnnOaUabiziTvWqxaUabnDKJvWqxFnnOnpnkvW...</td>\n",
              "    </tr>\n",
              "    <tr>\n",
              "      <th>4586</th>\n",
              "      <td>vWqxnDKJnDKJHCUKaUabiziTnDKJHCUK</td>\n",
              "    </tr>\n",
              "    <tr>\n",
              "      <th>4967</th>\n",
              "      <td>GGNFvWqxFnnOiziTGjqlnpnkFnnOiziTFnnO</td>\n",
              "    </tr>\n",
              "    <tr>\n",
              "      <th>6783</th>\n",
              "      <td>iziTHCUKnDKJHCUKHCUKiziTiziTiziTnpnkFnnOnDKJHCUK</td>\n",
              "    </tr>\n",
              "    <tr>\n",
              "      <th>7036</th>\n",
              "      <td>HCUKiziTHCUKiziTplznaUabHCUKGGNFnpnkiziTFnnO</td>\n",
              "    </tr>\n",
              "    <tr>\n",
              "      <th>8233</th>\n",
              "      <td>GGNFFnnOGjqlaUabvWqxGGNFiziTaUabaUabnDKJ</td>\n",
              "    </tr>\n",
              "    <tr>\n",
              "      <th>8765</th>\n",
              "      <td>HCUKplznaUabnDKJaUabFnnOFnnOplznplzn</td>\n",
              "    </tr>\n",
              "  </tbody>\n",
              "</table>\n",
              "</div><br><label><b>dtype:</b> object</label>"
            ]
          },
          "metadata": {},
          "execution_count": 8
        }
      ],
      "source": [
        "# Cell 8: View Clustroids and Sample Strings\n",
        "clustroids = np.sort(np.unique(labels))\n",
        "strings = df.iloc[clustroids][\"string\"]\n",
        "strings"
      ]
    },
    {
      "cell_type": "code",
      "execution_count": null,
      "metadata": {
        "colab": {
          "base_uri": "https://localhost:8080/"
        },
        "id": "RlI_5_Js3BC3",
        "outputId": "3cb0b22f-15c1-4be7-fb37-aa6f72391e48"
      },
      "outputs": [
        {
          "output_type": "display_data",
          "data": {
            "text/plain": [
              "<Figure size 1200x600 with 1 Axes>"
            ],
            "image/png": "[encoded data removed]"
          },
          "metadata": {}
        }
      ],
      "source": [
        "# Cell 9: Average Intra-cluster Jaccard Distance\n",
        "import matplotlib.pyplot as plt\n",
        "\n",
        "ajd = []\n",
        "\n",
        "for c in clustroids:\n",
        "    ft = features[np.argwhere(labels == c).flatten()]\n",
        "    cf = features[c]\n",
        "    s = ft.dot(cf)\n",
        "    u = features.shape[1] - (1 - ft).dot(1 - cf)\n",
        "    jds = 1 - s / u\n",
        "    ajd.append(jds.mean())\n",
        "\n",
        "# Plot\n",
        "plt.figure(figsize=(12, 6))\n",
        "plt.bar(range(len(ajd)), ajd, color='salmon')\n",
        "plt.xlabel(\"Cluster Index\")\n",
        "plt.ylabel(\"Avg. Jaccard Distance to Clustroid\")\n",
        "plt.title(\"Average Jaccard Distance to Clustroid in Each Cluster\")\n",
        "plt.grid(axis='y', linestyle='--', alpha=0.7)\n",
        "plt.tight_layout()\n",
        "plt.show()"
      ]
    }
  ],
  "metadata": {
    "colab": {
      "provenance": []
    },
    "kernelspec": {
      "display_name": "clustering_env",
      "language": "python",
      "name": "python3"
    },
    "language_info": {
      "codemirror_mode": {
        "name": "ipython",
        "version": 3
      },
      "file_extension": ".py",
      "mimetype": "text/x-python",
      "name": "python",
      "nbconvert_exporter": "python",
      "pygments_lexer": "ipython3",
      "version": "3.8.0"
    }
  },
  "nbformat": 4,
  "nbformat_minor": 0
}