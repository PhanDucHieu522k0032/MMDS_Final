{
  "cells": [
    {
      "cell_type": "markdown",
      "metadata": {
        "id": "OYZMXNxJuxzf"
      },
      "source": [
        "#Task 1 : Hierarchical clustering in non-Euclidean spaces"
      ]
    },
    {
      "cell_type": "code",
      "execution_count": 1,
      "metadata": {
        "id": "ZoVn90UtuBJq"
      },
      "outputs": [],
      "source": [
        "# Cell 1: Imports and Setup\n",
        "from random import choice, randint\n",
        "from string import ascii_letters\n",
        "from collections import deque\n",
        "import numpy as np\n",
        "import pandas as pd\n",
        "from sklearn.preprocessing import MultiLabelBinarizer\n",
        "from ast import literal_eval\n",
        "import csv\n",
        "from tqdm import tqdm\n",
        "import matplotlib.pyplot as plt"
      ]
    },
    {
      "cell_type": "code",
      "execution_count": 2,
      "metadata": {
        "id": "3ofhZC6SuK-R"
      },
      "outputs": [],
      "source": [
        "# Cell 2: Limited Vocabulary Dataset Generation\n",
        "vocab = [\"\".join(choice(ascii_letters) for _ in range(4)) for _ in range(10)]\n",
        "records = []\n",
        "\n",
        "for idx in range(10000):\n",
        "    string_len = randint(32, 64)\n",
        "    raw_string = \"\"\n",
        "\n",
        "    while len(raw_string) < string_len:\n",
        "        raw_string += choice(vocab)\n",
        "\n",
        "    shingles = [raw_string[i:i+4] for i in range(len(raw_string) - 3)]\n",
        "    records.append([idx, raw_string, shingles, len(raw_string)])"
      ]
    },
    {
      "cell_type": "code",
      "execution_count": 3,
      "metadata": {
        "id": "2vCjVG0ZuQMJ"
      },
      "outputs": [],
      "source": [
        "# Cell 3: Save to CSV\n",
        "with open(\"dataset.csv\", \"w\", newline=\"\") as f:\n",
        "    writer = csv.writer(f)\n",
        "    writer.writerow([\"index\", \"string\", \"shingles\", \"length\"])\n",
        "    writer.writerows(records)"
      ]
    },
    {
      "cell_type": "code",
      "execution_count": 4,
      "metadata": {
        "id": "2EmB8LJ_uT_K"
      },
      "outputs": [],
      "source": [
        "# Cell 4: Load Dataset\n",
        "df = pd.read_csv(\"dataset.csv\", index_col=\"index\")\n",
        "df[\"shingles\"] = df[\"shingles\"].apply(literal_eval)"
      ]
    },
    {
      "cell_type": "code",
      "source": [
        "# Cell 5: Create Binary matrix\n",
        "from itertools import chain\n",
        "\n",
        "# Build vocabulary of all unique shingles\n",
        "shingle_sets = df[\"shingles\"].apply(set)\n",
        "vocab = sorted(set(chain.from_iterable(shingle_sets)))\n",
        "vocab_index = {sh: i for i, sh in enumerate(vocab)}\n",
        "2\n",
        "# Use int32 to prevent overflow\n",
        "num_docs = len(df)\n",
        "num_shingles = len(vocab)\n",
        "binary_matrix = np.zeros((num_docs, num_shingles), dtype=np.int32)\n",
        "\n",
        "# Populate matrix manually\n",
        "for i, shingle_set in enumerate(shingle_sets):\n",
        "    for sh in shingle_set:\n",
        "        binary_matrix[i, vocab_index[sh]] = 1"
      ],
      "metadata": {
        "id": "4mnEWL3Lq4g_"
      },
      "execution_count": 5,
      "outputs": []
    },
    {
      "cell_type": "code",
      "execution_count": 6,
      "metadata": {
        "id": "ZdwRSYA83BC2"
      },
      "outputs": [],
      "source": [
        "# Cell 6: Agglomerative Clustering with NN-Chain and Progress\n",
        "class CustomAgglomerativeClustering:\n",
        "    \"\"\"Bottom-up agglomerative clustering using clustroids and Jaccard distance.\"\"\"\n",
        "\n",
        "    def __init__(self, n_clusters=3, jump_threshold=None, seed=42, verbose=True, return_clustroids=False):\n",
        "        self.n_clusters = n_clusters\n",
        "        self.jump_threshold = jump_threshold\n",
        "        self.seed = seed\n",
        "        self.verbose = verbose\n",
        "        self.return_clustroids = return_clustroids\n",
        "\n",
        "    @staticmethod\n",
        "    def jaccard_matrix(A, B):\n",
        "        \"\"\"Compute pairwise Jaccard distances using binary matrix form.\"\"\"\n",
        "        intersect = A.dot(B.T)\n",
        "        union = A.shape[1] - (1 - A).dot(1 - B.T)\n",
        "        return 1 - intersect / union\n",
        "\n",
        "    def cluster(self, feature_matrix):\n",
        "        clusters = pd.DataFrame(\n",
        "            [(i, [i]) for i in range(len(feature_matrix))],\n",
        "            columns=[\"clustroid\", \"members\"]\n",
        "        )\n",
        "\n",
        "        rng = np.random.default_rng(self.seed)\n",
        "        stack = deque()\n",
        "        last_diameter = 0\n",
        "\n",
        "        if self.verbose:\n",
        "            pbar = tqdm(total=len(clusters) - self.n_clusters - 1, desc=\"Clustering\")\n",
        "\n",
        "        while len(clusters) > self.n_clusters + 1:\n",
        "            if not stack:\n",
        "                stack.appendleft(clusters[\"clustroid\"].sample(1, random_state=rng).item())\n",
        "\n",
        "            current = stack[0]\n",
        "            candidates = clusters[clusters[\"clustroid\"] != current][\"clustroid\"].values\n",
        "\n",
        "            jaccard_distance = self.jaccard_matrix(feature_matrix[candidates], feature_matrix[[current]]).flatten()\n",
        "            nearest = candidates[np.argmin(jaccard_distance)]\n",
        "\n",
        "            if nearest in stack:\n",
        "                stack.popleft()\n",
        "                stack.remove(nearest)\n",
        "\n",
        "                members = (\n",
        "                    clusters.loc[clusters[\"clustroid\"] == current, \"members\"].item() +\n",
        "                    clusters.loc[clusters[\"clustroid\"] == nearest, \"members\"].item()\n",
        "                )\n",
        "\n",
        "                submatrix = feature_matrix[members]\n",
        "                jaccard_distance_matrix = self.jaccard_matrix(submatrix, submatrix)\n",
        "                if self.jump_threshold is not None:\n",
        "                    diameter = jaccard_distance_matrix.max()\n",
        "                    if abs(diameter - last_diameter) > self.jump_threshold:\n",
        "                        if self.verbose:\n",
        "                            print(f\"Jump threshold exceeded: Δ{abs(diameter - last_diameter):.4f}\")\n",
        "                        break\n",
        "                    last_diameter = diameter\n",
        "\n",
        "                clustroid = members[np.square(jaccard_distance_matrix).sum(axis=1).argmin()]\n",
        "                clusters.loc[clusters[\"clustroid\"] == current, \"clustroid\"] = clustroid\n",
        "                clusters.loc[clusters[\"clustroid\"] == nearest, \"clustroid\"] = clustroid\n",
        "                clusters = clusters.groupby(\"clustroid\", as_index=False).agg({\"members\": \"sum\"})\n",
        "\n",
        "                if self.verbose:\n",
        "                    pbar.update(1)\n",
        "            else:\n",
        "                stack.appendleft(nearest)\n",
        "\n",
        "        if self.verbose:\n",
        "            pbar.close()\n",
        "\n",
        "        self.labels_ = clusters.explode(\"members\").sort_values(\"members\")[\"clustroid\"].values\n",
        "\n",
        "        return (self.labels_, clusters[\"clustroid\"].values) if self.return_clustroids else self.labels_\n",
        "\n",
        "    def cluster_and_label(self, X):\n",
        "        return self.cluster(X)"
      ]
    },
    {
      "cell_type": "code",
      "execution_count": 7,
      "metadata": {
        "colab": {
          "base_uri": "https://localhost:8080/"
        },
        "id": "VnUgX5Uu3BC2",
        "outputId": "2cf04f2b-dea0-4979-997a-6ebd50f09eb6"
      },
      "outputs": [
        {
          "output_type": "stream",
          "name": "stderr",
          "text": [
            "Clustering: 100%|██████████| 9984/9984 [04:25<00:00, 37.59it/s]\n"
          ]
        }
      ],
      "source": [
        "# Cell 7: Run Clustering\n",
        "clusterer = CustomAgglomerativeClustering(n_clusters=15, jump_threshold=0.8, seed=42, verbose=True)\n",
        "labels = clusterer.cluster_and_label(binary_matrix)"
      ]
    },
    {
      "cell_type": "code",
      "execution_count": 8,
      "metadata": {
        "id": "tlNfy4753BC3",
        "colab": {
          "base_uri": "https://localhost:8080/",
          "height": 617
        },
        "outputId": "e927a3ef-46f9-4d86-c567-ed81ab87e11c"
      },
      "outputs": [
        {
          "output_type": "execute_result",
          "data": {
            "text/plain": [
              "index\n",
              "508          tJqQymVwuNqctJqQtJqQHjKRuNqcslfFtJqQHjKRuNqc\n",
              "649     ZQcVuNqcEJoCPkeSEJoCHjKRslfFElpeEJoCPkeSHjKREJ...\n",
              "1981             slfFEJoCymVwPkeSuNqctJqQZQcVEJoCOZKkElpe\n",
              "2026         HjKRtJqQEJoCtJqQPkeSHjKRElpeslfFHjKRHjKRuNqc\n",
              "2251     HjKRHjKRslfFEJoCZQcVHjKRymVwHjKRuNqcOZKkHjKROZKk\n",
              "2717             PkeSuNqcElpeslfFslfFuNqcymVwPkeSZQcVymVw\n",
              "3639    PkeSZQcVHjKRymVwslfFslfFElpeElpeZQcVymVwElpetJ...\n",
              "4538    PkeSZQcVslfFHjKRZQcVZQcVElpeymVwtJqQZQcVEJoCuN...\n",
              "4885    PkeSslfFymVwEJoCOZKkymVwuNqcElpeEJoCymVwZQcVym...\n",
              "5379    OZKkymVwPkeSElpetJqQPkeSElpeEJoCPkeSEJoCElpeEl...\n",
              "7041    uNqcZQcVHjKRElpeElpeHjKRslfFEJoCPkeStJqQymVwEJ...\n",
              "7890             OZKktJqQOZKkOZKkHjKRslfFOZKkZQcVuNqcHjKR\n",
              "8301    ZQcVuNqcymVwElpeslfFHjKRHjKRPkeSPkeSPkeStJqQHj...\n",
              "9326                     ymVwtJqQElpeuNqcslfFslfFOZKkPkeS\n",
              "9543             ZQcVuNqctJqQPkeSZQcVZQcVHjKRPkeSHjKRZQcV\n",
              "9719     slfFymVwymVwuNqctJqQuNqcZQcVHjKREJoCslfFOZKkHjKR\n",
              "Name: string, dtype: object"
            ],
            "text/html": [
              "<div>\n",
              "<style scoped>\n",
              "    .dataframe tbody tr th:only-of-type {\n",
              "        vertical-align: middle;\n",
              "    }\n",
              "\n",
              "    .dataframe tbody tr th {\n",
              "        vertical-align: top;\n",
              "    }\n",
              "\n",
              "    .dataframe thead th {\n",
              "        text-align: right;\n",
              "    }\n",
              "</style>\n",
              "<table border=\"1\" class=\"dataframe\">\n",
              "  <thead>\n",
              "    <tr style=\"text-align: right;\">\n",
              "      <th></th>\n",
              "      <th>string</th>\n",
              "    </tr>\n",
              "    <tr>\n",
              "      <th>index</th>\n",
              "      <th></th>\n",
              "    </tr>\n",
              "  </thead>\n",
              "  <tbody>\n",
              "    <tr>\n",
              "      <th>508</th>\n",
              "      <td>tJqQymVwuNqctJqQtJqQHjKRuNqcslfFtJqQHjKRuNqc</td>\n",
              "    </tr>\n",
              "    <tr>\n",
              "      <th>649</th>\n",
              "      <td>ZQcVuNqcEJoCPkeSEJoCHjKRslfFElpeEJoCPkeSHjKREJ...</td>\n",
              "    </tr>\n",
              "    <tr>\n",
              "      <th>1981</th>\n",
              "      <td>slfFEJoCymVwPkeSuNqctJqQZQcVEJoCOZKkElpe</td>\n",
              "    </tr>\n",
              "    <tr>\n",
              "      <th>2026</th>\n",
              "      <td>HjKRtJqQEJoCtJqQPkeSHjKRElpeslfFHjKRHjKRuNqc</td>\n",
              "    </tr>\n",
              "    <tr>\n",
              "      <th>2251</th>\n",
              "      <td>HjKRHjKRslfFEJoCZQcVHjKRymVwHjKRuNqcOZKkHjKROZKk</td>\n",
              "    </tr>\n",
              "    <tr>\n",
              "      <th>2717</th>\n",
              "      <td>PkeSuNqcElpeslfFslfFuNqcymVwPkeSZQcVymVw</td>\n",
              "    </tr>\n",
              "    <tr>\n",
              "      <th>3639</th>\n",
              "      <td>PkeSZQcVHjKRymVwslfFslfFElpeElpeZQcVymVwElpetJ...</td>\n",
              "    </tr>\n",
              "    <tr>\n",
              "      <th>4538</th>\n",
              "      <td>PkeSZQcVslfFHjKRZQcVZQcVElpeymVwtJqQZQcVEJoCuN...</td>\n",
              "    </tr>\n",
              "    <tr>\n",
              "      <th>4885</th>\n",
              "      <td>PkeSslfFymVwEJoCOZKkymVwuNqcElpeEJoCymVwZQcVym...</td>\n",
              "    </tr>\n",
              "    <tr>\n",
              "      <th>5379</th>\n",
              "      <td>OZKkymVwPkeSElpetJqQPkeSElpeEJoCPkeSEJoCElpeEl...</td>\n",
              "    </tr>\n",
              "    <tr>\n",
              "      <th>7041</th>\n",
              "      <td>uNqcZQcVHjKRElpeElpeHjKRslfFEJoCPkeStJqQymVwEJ...</td>\n",
              "    </tr>\n",
              "    <tr>\n",
              "      <th>7890</th>\n",
              "      <td>OZKktJqQOZKkOZKkHjKRslfFOZKkZQcVuNqcHjKR</td>\n",
              "    </tr>\n",
              "    <tr>\n",
              "      <th>8301</th>\n",
              "      <td>ZQcVuNqcymVwElpeslfFHjKRHjKRPkeSPkeSPkeStJqQHj...</td>\n",
              "    </tr>\n",
              "    <tr>\n",
              "      <th>9326</th>\n",
              "      <td>ymVwtJqQElpeuNqcslfFslfFOZKkPkeS</td>\n",
              "    </tr>\n",
              "    <tr>\n",
              "      <th>9543</th>\n",
              "      <td>ZQcVuNqctJqQPkeSZQcVZQcVHjKRPkeSHjKRZQcV</td>\n",
              "    </tr>\n",
              "    <tr>\n",
              "      <th>9719</th>\n",
              "      <td>slfFymVwymVwuNqctJqQuNqcZQcVHjKREJoCslfFOZKkHjKR</td>\n",
              "    </tr>\n",
              "  </tbody>\n",
              "</table>\n",
              "</div><br><label><b>dtype:</b> object</label>"
            ]
          },
          "metadata": {},
          "execution_count": 8
        }
      ],
      "source": [
        "# Cell 8: View Clustroids and Sample Strings\n",
        "clustroid_ids = np.sort(np.unique(labels))\n",
        "df.iloc[clustroid_ids][\"string\"]"
      ]
    },
    {
      "cell_type": "code",
      "execution_count": 12,
      "metadata": {
        "id": "RlI_5_Js3BC3"
      },
      "outputs": [],
      "source": [
        "# Cell 9: Average Intra-cluster Jaccard Distance\n",
        "average_jaccard_distance_per_cluster = []\n",
        "\n",
        "for clustroid_index in clustroid_ids:\n",
        "    # Get all data point indices belonging to this cluster\n",
        "    current_cluster_member_indices = np.where(labels == clustroid_index)[0]\n",
        "\n",
        "    # Get binary vectors of all members and the clustroid\n",
        "    current_cluster_members = binary_matrix[current_cluster_member_indices]\n",
        "    clustroid_vector = binary_matrix[clustroid_index]\n",
        "\n",
        "    # Compute intersection and union\n",
        "    intersection = current_cluster_members.dot(clustroid_vector)\n",
        "    union = binary_matrix.shape[1] - (1 - current_cluster_members).dot(1 - clustroid_vector)\n",
        "\n",
        "    jaccard_distances = 1 - intersection / union\n",
        "    average_jaccard_distance_per_cluster.append(jaccard_distances.mean())"
      ]
    },
    {
      "cell_type": "code",
      "source": [
        "#Cell 10 : Plot\n",
        "plt.figure(figsize=(12, 6))\n",
        "plt.bar(range(len(average_jaccard_distance_per_cluster)), average_jaccard_distance_per_cluster, color='cornflowerblue')\n",
        "plt.xlabel(\"Cluster Index\")\n",
        "plt.ylabel(\"Avg. Jaccard Distance to Clustroid\")\n",
        "plt.title(\"Average Jaccard Distance per Cluster\")\n",
        "plt.xticks(range(len(average_jaccard_distance_per_cluster)))\n",
        "plt.grid(axis='y', linestyle='--', alpha=0.6)\n",
        "plt.tight_layout()\n",
        "plt.show()"
      ],
      "metadata": {
        "id": "pskDeO07qfJG",
        "colab": {
          "base_uri": "https://localhost:8080/",
          "height": 607
        },
        "outputId": "edd49e0a-1e17-4fde-e1a2-e51009b380dd"
      },
      "execution_count": 14,
      "outputs": [
        {
          "output_type": "display_data",
          "data": {
            "text/plain": [
              "<Figure size 1200x600 with 1 Axes>"
            ],
            "image/png": "[encoded data removed]"
          },
          "metadata": {}
        }
      ]
    },
    {
      "cell_type": "code",
      "source": [],
      "metadata": {
        "id": "FRTOYKKS_c4i"
      },
      "execution_count": null,
      "outputs": []
    }
  ],
  "metadata": {
    "colab": {
      "provenance": []
    },
    "kernelspec": {
      "display_name": "clustering_env",
      "language": "python",
      "name": "python3"
    },
    "language_info": {
      "codemirror_mode": {
        "name": "ipython",
        "version": 3
      },
      "file_extension": ".py",
      "mimetype": "text/x-python",
      "name": "python",
      "nbconvert_exporter": "python",
      "pygments_lexer": "ipython3",
      "version": "3.8.0"
    }
  },
  "nbformat": 4,
  "nbformat_minor": 0
}