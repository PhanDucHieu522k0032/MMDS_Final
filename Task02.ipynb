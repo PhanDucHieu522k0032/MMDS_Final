{
  "cells": [
    {
      "cell_type": "code",
      "execution_count": null,
      "metadata": {
        "id": "Gd2o1Xw6H9eK"
      },
      "outputs": [],
      "source": [
        "# Environment setup function\n",
        "def setup_spark_environment():\n",
        "    # Install dependencies\n",
        "    !apt-get install openjdk-8-jdk-headless -qq > /dev/null\n",
        "    !wget -q https://archive.apache.org/dist/spark/spark-3.5.4/spark-3.5.4-bin-hadoop3.tgz\n",
        "    !tar xf spark-3.5.4-bin-hadoop3.tgz\n",
        "    !pip install -q findspark\n",
        "\n",
        "    # Set environment variables\n",
        "    import os\n",
        "    os.environ[\"JAVA_HOME\"] = \"/usr/lib/jvm/java-8-openjdk-amd64\"\n",
        "    os.environ[\"SPARK_HOME\"] = \"/content/spark-3.5.4-bin-hadoop3\"\n",
        "\n",
        "    # Initialize findspark\n",
        "    import findspark\n",
        "    findspark.init()\n",
        "\n",
        "    # Create Spark session\n",
        "    from pyspark.sql import SparkSession\n",
        "    spark = SparkSession.builder.appName(\"GoldPricePrediction\").getOrCreate()\n",
        "\n",
        "    return spark\n",
        "\n",
        "# Call setup function\n",
        "spark = setup_spark_environment()"
      ]
    },
    {
      "cell_type": "markdown",
      "metadata": {
        "id": "JkY4zmEHsk0h"
      },
      "source": [
        "#Task 2"
      ]
    },
    {
      "cell_type": "markdown",
      "metadata": {
        "id": "mVibDFkD1opV"
      },
      "source": [
        "##Library"
      ]
    },
    {
      "cell_type": "code",
      "execution_count": null,
      "metadata": {
        "id": "Mk_wulIE1q2N"
      },
      "outputs": [],
      "source": [
        "from pyspark.sql import SparkSession\n",
        "from pyspark.sql.functions import col, lag\n",
        "from pyspark.sql.window import Window\n",
        "from pyspark.ml.feature import VectorAssembler\n",
        "from pyspark.ml.regression import LinearRegression\n",
        "from pyspark.ml.evaluation import RegressionEvaluator\n",
        "import matplotlib.pyplot as plt\n",
        "import numpy as np"
      ]
    },
    {
      "cell_type": "markdown",
      "metadata": {
        "id": "tSQqNIAq1zqG"
      },
      "source": [
        "##Preprocess data"
      ]
    },
    {
      "cell_type": "code",
      "execution_count": null,
      "metadata": {
        "id": "dwnWja7c13Ob"
      },
      "outputs": [],
      "source": [
        "def load_and_preprocess_data(file_path):\n",
        "    #Read the dataset\n",
        "    df = spark.read.csv(file_path, header=True, inferSchema=True)\n",
        "    df = df.withColumn(\"Date\", col(\"Date\").cast(\"date\")).orderBy(\"Date\")\n",
        "\n",
        "    #Create lag features\n",
        "    windowSpec = Window.orderBy(\"Date\")\n",
        "    for i in range(1, 11):\n",
        "        df = df.withColumn(f\"lag_{i}\", lag(\"Sell Price\", i).over(windowSpec))\n",
        "\n",
        "    #Drop rows with null values\n",
        "    df = df.na.drop()\n",
        "    return df"
      ]
    },
    {
      "cell_type": "markdown",
      "metadata": {
        "id": "M21zVEIS15M2"
      },
      "source": [
        "##Create feature vectors and split data"
      ]
    },
    {
      "cell_type": "code",
      "execution_count": null,
      "metadata": {
        "id": "H1e6of0W18T9"
      },
      "outputs": [],
      "source": [
        "def prepare_ml_data(df):\n",
        "    #Create feature vector using VectorAssembler\n",
        "    feature_cols = [f\"lag_{i}\" for i in range(1, 11)]\n",
        "    assembler = VectorAssembler(inputCols=feature_cols, outputCol=\"features\")\n",
        "\n",
        "    #Select columns\n",
        "    data = df.select(\"Date\", *feature_cols, col(\"Sell Price\").alias(\"label\"))\n",
        "    vector_data = assembler.transform(data).select(\"Date\", \"features\", \"label\")\n",
        "\n",
        "    #Split the data\n",
        "    train_data, test_data = vector_data.randomSplit([0.7, 0.3], seed=42)\n",
        "    return train_data, test_data"
      ]
    },
    {
      "cell_type": "markdown",
      "metadata": {
        "id": "4la4sk5T1_7d"
      },
      "source": [
        "##Train and evaluate model"
      ]
    },
    {
      "cell_type": "code",
      "execution_count": null,
      "metadata": {
        "id": "8mw20mHD2B1i"
      },
      "outputs": [],
      "source": [
        "def train_and_evaluate_model(train_data, test_data):\n",
        "    lr = LinearRegression(\n",
        "        featuresCol=\"features\",\n",
        "        labelCol=\"label\",\n",
        "        maxIter=10,\n",
        "        regParam=0.1,\n",
        "        elasticNetParam=0.5,\n",
        "        standardization=True,\n",
        "        tol=1e-12,\n",
        "        solver=\"l-bfgs\"\n",
        "    )\n",
        "\n",
        "    model = lr.fit(train_data)\n",
        "    summary = model.summary\n",
        "\n",
        "    #Manually track and log loss if needed\n",
        "    if len(summary.objectiveHistory) <= 1:\n",
        "        print(\"Warning: Model converged in just one iteration, which is unusual.\")\n",
        "        print(\"Consider adjusting the regularization or solver parameters.\")\n",
        "\n",
        "    #Evaluate the model\n",
        "    evaluator = RegressionEvaluator(predictionCol=\"prediction\", labelCol=\"label\")\n",
        "\n",
        "    #Calculate metrics for both training and test sets\n",
        "    train_rmse = evaluator.setMetricName(\"rmse\").evaluate(model.transform(train_data))\n",
        "    test_rmse = evaluator.setMetricName(\"rmse\").evaluate(model.transform(test_data))\n",
        "    train_mae = evaluator.setMetricName(\"mae\").evaluate(model.transform(train_data))\n",
        "    test_mae = evaluator.setMetricName(\"mae\").evaluate(model.transform(test_data))\n",
        "    train_r2 = evaluator.setMetricName(\"r2\").evaluate(model.transform(train_data))\n",
        "    test_r2 = evaluator.setMetricName(\"r2\").evaluate(model.transform(test_data))\n",
        "\n",
        "    metrics = {\n",
        "        'train_rmse': train_rmse,\n",
        "        'test_rmse': test_rmse,\n",
        "        'train_mae': train_mae,\n",
        "        'test_mae': test_mae,\n",
        "        'train_r2': train_r2,\n",
        "        'test_r2': test_r2\n",
        "    }\n",
        "\n",
        "    return model, summary, metrics"
      ]
    },
    {
      "cell_type": "markdown",
      "metadata": {
        "id": "qLZ7aSqx2L-D"
      },
      "source": [
        "##Visualize"
      ]
    },
    {
      "cell_type": "code",
      "execution_count": null,
      "metadata": {
        "id": "hYC_i2dY2Neh"
      },
      "outputs": [],
      "source": [
        "def create_visualizations(summary, metrics):\n",
        "    loss_history = summary.objectiveHistory\n",
        "\n",
        "    #Plotting loss graph\n",
        "    plt.figure(figsize=(10, 6))\n",
        "    if len(loss_history) > 1:\n",
        "        plt.plot(range(1, len(loss_history) + 1), loss_history, 'bo-', linewidth=2)\n",
        "        plt.title(\"Training Loss Over Iterations\")\n",
        "        plt.xlabel(\"Iteration\")\n",
        "        plt.ylabel(\"Loss\")\n",
        "        plt.grid(True)\n",
        "    else:\n",
        "        plt.scatter([1], loss_history, color='blue', s=100)\n",
        "        plt.xlim(0, 2)\n",
        "        plt.title(\"Training Loss (Model Converged in One Iteration)\")\n",
        "        plt.xlabel(\"Iteration\")\n",
        "        plt.ylabel(\"Loss\")\n",
        "        plt.grid(True)\n",
        "\n",
        "        plt.annotate(\"Model converged immediately.\\nConsider adjusting regularization parameters.\",\n",
        "                    xy=(1, loss_history[0]),\n",
        "                    xytext=(1.2, loss_history[0]),\n",
        "                    arrowprops=dict(facecolor='black', shrink=0.05))\n",
        "\n",
        "    plt.show()\n",
        "\n",
        "    #Bar chart for metrics comparison\n",
        "    metric_names = ['RMSE', 'MAE', 'R²']\n",
        "    train_values = [metrics['train_rmse'], metrics['train_mae'], metrics['train_r2']]\n",
        "    test_values = [metrics['test_rmse'], metrics['test_mae'], metrics['test_r2']]\n",
        "\n",
        "    x = np.arange(len(metric_names))\n",
        "    width = 0.35\n",
        "\n",
        "    plt.figure(figsize=(10, 6))\n",
        "    plt.bar(x - width/2, train_values, width, label='Training')\n",
        "    plt.bar(x + width/2, test_values, width, label='Test')\n",
        "    plt.ylabel('Value')\n",
        "    plt.title('Model Performance Metrics')\n",
        "    plt.xticks(x, metric_names)\n",
        "    plt.legend()\n",
        "    plt.grid(axis='y')\n",
        "    plt.show()"
      ]
    },
    {
      "cell_type": "markdown",
      "metadata": {
        "id": "Pi12JYgY2QS7"
      },
      "source": [
        "##Main"
      ]
    },
    {
      "cell_type": "code",
      "execution_count": null,
      "metadata": {
        "colab": {
          "base_uri": "https://localhost:8080/",
          "height": 1000
        },
        "id": "ZhHOTaF_saeQ",
        "outputId": "18e6efea-9f17-45a6-ed1c-e76937a939ac"
      },
      "outputs": [
        {
          "name": "stdout",
          "output_type": "stream",
          "text": [
            "Dataset sample:\n",
            "+----------+---------+----------+-----+-----+-----+-----+-----+-----+-----+-----+-----+------+\n",
            "|      Date|Buy Price|Sell Price|lag_1|lag_2|lag_3|lag_4|lag_5|lag_6|lag_7|lag_8|lag_9|lag_10|\n",
            "+----------+---------+----------+-----+-----+-----+-----+-----+-----+-----+-----+-----+------+\n",
            "|2009-08-11|    21.13|     21.19|21.19|21.19|21.19|21.19|21.19|21.19|21.19|21.19|21.19| 21.19|\n",
            "|2009-08-12|    21.13|     21.19|21.19|21.19|21.19|21.19|21.19|21.19|21.19|21.19|21.19| 21.19|\n",
            "|2009-08-13|    21.13|     21.19|21.19|21.19|21.19|21.19|21.19|21.19|21.19|21.19|21.19| 21.19|\n",
            "|2009-08-14|    21.13|     21.19|21.19|21.19|21.19|21.19|21.19|21.19|21.19|21.19|21.19| 21.19|\n",
            "|2009-08-15|    21.13|     21.19|21.19|21.19|21.19|21.19|21.19|21.19|21.19|21.19|21.19| 21.19|\n",
            "+----------+---------+----------+-----+-----+-----+-----+-----+-----+-----+-----+-----+------+\n",
            "only showing top 5 rows\n",
            "\n",
            "Training set size: 3964\n",
            "Test set size: 1591\n",
            "Training RMSE: 0.4431\n",
            "Test RMSE: 0.3760\n",
            "Training R²: 0.9992\n",
            "Test R²: 0.9994\n"
          ]
        },
        {
          "data": {
            "image/png": "[encoded data removed]",
            "text/plain": [
              "<Figure size 1000x600 with 1 Axes>"
            ]
          },
          "metadata": {},
          "output_type": "display_data"
        },
        {
          "data": {
            "image/png": "[encoded data removed]",
            "text/plain": [
              "<Figure size 1000x600 with 1 Axes>"
            ]
          },
          "metadata": {},
          "output_type": "display_data"
        }
      ],
      "source": [
        "def main():\n",
        "    file_path = \"gold_prices.csv\"\n",
        "    df = load_and_preprocess_data(file_path)\n",
        "    print(\"Dataset sample:\")\n",
        "    df.show(5)\n",
        "\n",
        "    #Prepare data\n",
        "    train_data, test_data = prepare_ml_data(df)\n",
        "    print(f\"Training set size: {train_data.count()}\")\n",
        "    print(f\"Test set size: {test_data.count()}\")\n",
        "\n",
        "    #Train and evaluate the model\n",
        "    model, summary, metrics = train_and_evaluate_model(train_data, test_data)\n",
        "\n",
        "    #Print evaluation metrics\n",
        "    print(f\"Training RMSE: {metrics['train_rmse']:.4f}\")\n",
        "    print(f\"Test RMSE: {metrics['test_rmse']:.4f}\")\n",
        "    print(f\"Training R²: {metrics['train_r2']:.4f}\")\n",
        "    print(f\"Test R²: {metrics['test_r2']:.4f}\")\n",
        "\n",
        "    #Create visualizations\n",
        "    create_visualizations(summary, metrics)\n",
        "\n",
        "if __name__ == \"__main__\":\n",
        "    main()"
      ]
    }
  ],
  "metadata": {
    "colab": {
      "provenance": [],
      "toc_visible": true
    },
    "kernelspec": {
      "display_name": "Python 3",
      "name": "python3"
    },
    "language_info": {
      "name": "python"
    }
  },
  "nbformat": 4,
  "nbformat_minor": 0
}
